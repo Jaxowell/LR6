{
  "cells": [
    {
      "cell_type": "markdown",
      "metadata": {
        "id": "bri_pAriNFqN"
      },
      "source": [
        "**Цель работы:**\n",
        "\n",
        "Осуществить предварительную обработку данных csv-файла, выявить и устранить проблемы в этих данных."
      ]
    },
    {
      "cell_type": "markdown",
      "source": [
        "# Загрузка набора данных"
      ],
      "metadata": {
        "id": "r_e-GeJmgZ8l"
      }
    },
    {
      "cell_type": "markdown",
      "source": [
        "### Описание предметной области"
      ],
      "metadata": {
        "id": "eeq9ZAbSguQS"
      }
    },
    {
      "cell_type": "markdown",
      "source": [
        "Вариант №10\n",
        "\n",
        "Набор данных: auto.csv\n",
        "\n",
        "Атрибуты:\n",
        "1. имя\n",
        "2. год\n",
        "3. цена продажи\n",
        "4. пройдено км\n",
        "5. топливо\n",
        "6. тип продавца\n",
        "7. коробка передач\n",
        "8. тип владельца"
      ],
      "metadata": {
        "id": "XHbH8zNIg0Ib"
      }
    },
    {
      "cell_type": "markdown",
      "source": [
        "### 1.Чтение файла (набора данных)"
      ],
      "metadata": {
        "id": "Lwin9ia7hT1i"
      }
    },
    {
      "cell_type": "code",
      "source": [
        "import pandas as pd\n",
        "df = pd.read_csv('/content/drive/MyDrive/Colab_Notebooks/1_LR_datasets/auto.csv', sep=',')\n",
        "\n"
      ],
      "metadata": {
        "id": "a5dYQO5YhOYa"
      },
      "execution_count": 34,
      "outputs": []
    },
    {
      "cell_type": "markdown",
      "source": [
        "### 2. Обзор данных"
      ],
      "metadata": {
        "id": "p82p53SvhjLN"
      }
    },
    {
      "cell_type": "markdown",
      "source": [
        "2.1 Вывод первых 20 строк с помощью метода head."
      ],
      "metadata": {
        "id": "eAYzXaLrh-qh"
      }
    },
    {
      "cell_type": "code",
      "source": [
        "df.head(20)"
      ],
      "metadata": {
        "id": "7yMo3VZ_hotx",
        "colab": {
          "base_uri": "https://localhost:8080/",
          "height": 676
        },
        "outputId": "864d6bd2-4b8e-470c-fae2-027207f86453"
      },
      "execution_count": 35,
      "outputs": [
        {
          "output_type": "execute_result",
          "data": {
            "text/plain": [
              "                               Name  year  SellingPrice  kmdriven     fuel  \\\n",
              "0                     Maruti 800 AC  2007       60000.0   70000.0   Petrol   \n",
              "1          Maruti Wagon R LXI Minor  2007      135000.0   50000.0   Petrol   \n",
              "2              Hyundai Verna 1.6 SX  2012      600000.0  100000.0   Diesel   \n",
              "3            Datsun RediGO T Option  2017      250000.0   46000.0   Petrol   \n",
              "4             Honda Amaze VX i-DTEC  2014      450000.0  141000.0   Diesel   \n",
              "5              Maruti Alto LX BSIII  2007      140000.0  125000.0   Petrol   \n",
              "6         Hyundai Xcent 1.2 Kappa S  2016      550000.0   25000.0   Petrol   \n",
              "7         Tata Indigo Grand Petroll  2014      240000.0   60000.0   Petrol   \n",
              "8          Hyundai Creta 1.6 VTVT S  2015      850000.0   25000.0  Petroll   \n",
              "9          Maruti Celerio Green VXI  2017      365000.0   78000.0      CNG   \n",
              "10          Chevrolet Sail 1.2 Base  2015      260000.0   35000.0   Petrol   \n",
              "11         Tata Indigo Grand Petrol  2014      250000.0  100000.0   Petrol   \n",
              "12  Toyota Corolla Altis 1.8 VL CVT  2018     1650000.0   25000.0   Petrol   \n",
              "13                    Maruti 800 AC  2007       60000.0   70000.0   Petrol   \n",
              "14         Maruti Wagon R LXI Minor  2007      135000.0   50000.0   Petrol   \n",
              "15             Hyundai Verna 1.6 SX  2012      600000.0  100000.0   Diesel   \n",
              "16           Datsun RediGO T Option  2017      250000.0   46000.0   Petrol   \n",
              "17            Honda Amaze VX i-DTEC  2014      450000.0  141000.0   Diesel   \n",
              "18             Maruti Alto LX BSIII  2007      140000.0  125000.0   Petrol   \n",
              "19        Hyundai Xcent 1.2 Kappa S  2016      550000.0   25000.0   Petrol   \n",
              "\n",
              "   seller_Type transmission         owner  \n",
              "0   Individual       Manual   First Owner  \n",
              "1   Individual       Manual   First Owner  \n",
              "2   Individual       Manual   First Owner  \n",
              "3   Individual       Manual   First Owner  \n",
              "4   Individual       Manual  Second Owner  \n",
              "5   Individual       Manual   First Owner  \n",
              "6   Individual       Manual   First Owner  \n",
              "7   Individual       Manual  Second Owner  \n",
              "8   Individual       Manual   First Owner  \n",
              "9   Individual       Manual   First Owner  \n",
              "10  Individual       Manual   First Owner  \n",
              "11  Individual       Manual   First Owner  \n",
              "12      Dealer    Automatic   First Owner  \n",
              "13  Individual       Manual   First Owner  \n",
              "14  Individual       Manual   First Owner  \n",
              "15  Individual       Manual   First Owner  \n",
              "16  Individual       Manual   First Owner  \n",
              "17  Individual       Manual  Second Owner  \n",
              "18  Individual       Manual   First Owner  \n",
              "19  Individual       Manual   First Owner  "
            ],
            "text/html": [
              "\n",
              "  <div id=\"df-bcdd2fcc-258f-40d7-97e0-7561ec5b9542\" class=\"colab-df-container\">\n",
              "    <div>\n",
              "<style scoped>\n",
              "    .dataframe tbody tr th:only-of-type {\n",
              "        vertical-align: middle;\n",
              "    }\n",
              "\n",
              "    .dataframe tbody tr th {\n",
              "        vertical-align: top;\n",
              "    }\n",
              "\n",
              "    .dataframe thead th {\n",
              "        text-align: right;\n",
              "    }\n",
              "</style>\n",
              "<table border=\"1\" class=\"dataframe\">\n",
              "  <thead>\n",
              "    <tr style=\"text-align: right;\">\n",
              "      <th></th>\n",
              "      <th>Name</th>\n",
              "      <th>year</th>\n",
              "      <th>SellingPrice</th>\n",
              "      <th>kmdriven</th>\n",
              "      <th>fuel</th>\n",
              "      <th>seller_Type</th>\n",
              "      <th>transmission</th>\n",
              "      <th>owner</th>\n",
              "    </tr>\n",
              "  </thead>\n",
              "  <tbody>\n",
              "    <tr>\n",
              "      <th>0</th>\n",
              "      <td>Maruti 800 AC</td>\n",
              "      <td>2007</td>\n",
              "      <td>60000.0</td>\n",
              "      <td>70000.0</td>\n",
              "      <td>Petrol</td>\n",
              "      <td>Individual</td>\n",
              "      <td>Manual</td>\n",
              "      <td>First Owner</td>\n",
              "    </tr>\n",
              "    <tr>\n",
              "      <th>1</th>\n",
              "      <td>Maruti Wagon R LXI Minor</td>\n",
              "      <td>2007</td>\n",
              "      <td>135000.0</td>\n",
              "      <td>50000.0</td>\n",
              "      <td>Petrol</td>\n",
              "      <td>Individual</td>\n",
              "      <td>Manual</td>\n",
              "      <td>First Owner</td>\n",
              "    </tr>\n",
              "    <tr>\n",
              "      <th>2</th>\n",
              "      <td>Hyundai Verna 1.6 SX</td>\n",
              "      <td>2012</td>\n",
              "      <td>600000.0</td>\n",
              "      <td>100000.0</td>\n",
              "      <td>Diesel</td>\n",
              "      <td>Individual</td>\n",
              "      <td>Manual</td>\n",
              "      <td>First Owner</td>\n",
              "    </tr>\n",
              "    <tr>\n",
              "      <th>3</th>\n",
              "      <td>Datsun RediGO T Option</td>\n",
              "      <td>2017</td>\n",
              "      <td>250000.0</td>\n",
              "      <td>46000.0</td>\n",
              "      <td>Petrol</td>\n",
              "      <td>Individual</td>\n",
              "      <td>Manual</td>\n",
              "      <td>First Owner</td>\n",
              "    </tr>\n",
              "    <tr>\n",
              "      <th>4</th>\n",
              "      <td>Honda Amaze VX i-DTEC</td>\n",
              "      <td>2014</td>\n",
              "      <td>450000.0</td>\n",
              "      <td>141000.0</td>\n",
              "      <td>Diesel</td>\n",
              "      <td>Individual</td>\n",
              "      <td>Manual</td>\n",
              "      <td>Second Owner</td>\n",
              "    </tr>\n",
              "    <tr>\n",
              "      <th>5</th>\n",
              "      <td>Maruti Alto LX BSIII</td>\n",
              "      <td>2007</td>\n",
              "      <td>140000.0</td>\n",
              "      <td>125000.0</td>\n",
              "      <td>Petrol</td>\n",
              "      <td>Individual</td>\n",
              "      <td>Manual</td>\n",
              "      <td>First Owner</td>\n",
              "    </tr>\n",
              "    <tr>\n",
              "      <th>6</th>\n",
              "      <td>Hyundai Xcent 1.2 Kappa S</td>\n",
              "      <td>2016</td>\n",
              "      <td>550000.0</td>\n",
              "      <td>25000.0</td>\n",
              "      <td>Petrol</td>\n",
              "      <td>Individual</td>\n",
              "      <td>Manual</td>\n",
              "      <td>First Owner</td>\n",
              "    </tr>\n",
              "    <tr>\n",
              "      <th>7</th>\n",
              "      <td>Tata Indigo Grand Petroll</td>\n",
              "      <td>2014</td>\n",
              "      <td>240000.0</td>\n",
              "      <td>60000.0</td>\n",
              "      <td>Petrol</td>\n",
              "      <td>Individual</td>\n",
              "      <td>Manual</td>\n",
              "      <td>Second Owner</td>\n",
              "    </tr>\n",
              "    <tr>\n",
              "      <th>8</th>\n",
              "      <td>Hyundai Creta 1.6 VTVT S</td>\n",
              "      <td>2015</td>\n",
              "      <td>850000.0</td>\n",
              "      <td>25000.0</td>\n",
              "      <td>Petroll</td>\n",
              "      <td>Individual</td>\n",
              "      <td>Manual</td>\n",
              "      <td>First Owner</td>\n",
              "    </tr>\n",
              "    <tr>\n",
              "      <th>9</th>\n",
              "      <td>Maruti Celerio Green VXI</td>\n",
              "      <td>2017</td>\n",
              "      <td>365000.0</td>\n",
              "      <td>78000.0</td>\n",
              "      <td>CNG</td>\n",
              "      <td>Individual</td>\n",
              "      <td>Manual</td>\n",
              "      <td>First Owner</td>\n",
              "    </tr>\n",
              "    <tr>\n",
              "      <th>10</th>\n",
              "      <td>Chevrolet Sail 1.2 Base</td>\n",
              "      <td>2015</td>\n",
              "      <td>260000.0</td>\n",
              "      <td>35000.0</td>\n",
              "      <td>Petrol</td>\n",
              "      <td>Individual</td>\n",
              "      <td>Manual</td>\n",
              "      <td>First Owner</td>\n",
              "    </tr>\n",
              "    <tr>\n",
              "      <th>11</th>\n",
              "      <td>Tata Indigo Grand Petrol</td>\n",
              "      <td>2014</td>\n",
              "      <td>250000.0</td>\n",
              "      <td>100000.0</td>\n",
              "      <td>Petrol</td>\n",
              "      <td>Individual</td>\n",
              "      <td>Manual</td>\n",
              "      <td>First Owner</td>\n",
              "    </tr>\n",
              "    <tr>\n",
              "      <th>12</th>\n",
              "      <td>Toyota Corolla Altis 1.8 VL CVT</td>\n",
              "      <td>2018</td>\n",
              "      <td>1650000.0</td>\n",
              "      <td>25000.0</td>\n",
              "      <td>Petrol</td>\n",
              "      <td>Dealer</td>\n",
              "      <td>Automatic</td>\n",
              "      <td>First Owner</td>\n",
              "    </tr>\n",
              "    <tr>\n",
              "      <th>13</th>\n",
              "      <td>Maruti 800 AC</td>\n",
              "      <td>2007</td>\n",
              "      <td>60000.0</td>\n",
              "      <td>70000.0</td>\n",
              "      <td>Petrol</td>\n",
              "      <td>Individual</td>\n",
              "      <td>Manual</td>\n",
              "      <td>First Owner</td>\n",
              "    </tr>\n",
              "    <tr>\n",
              "      <th>14</th>\n",
              "      <td>Maruti Wagon R LXI Minor</td>\n",
              "      <td>2007</td>\n",
              "      <td>135000.0</td>\n",
              "      <td>50000.0</td>\n",
              "      <td>Petrol</td>\n",
              "      <td>Individual</td>\n",
              "      <td>Manual</td>\n",
              "      <td>First Owner</td>\n",
              "    </tr>\n",
              "    <tr>\n",
              "      <th>15</th>\n",
              "      <td>Hyundai Verna 1.6 SX</td>\n",
              "      <td>2012</td>\n",
              "      <td>600000.0</td>\n",
              "      <td>100000.0</td>\n",
              "      <td>Diesel</td>\n",
              "      <td>Individual</td>\n",
              "      <td>Manual</td>\n",
              "      <td>First Owner</td>\n",
              "    </tr>\n",
              "    <tr>\n",
              "      <th>16</th>\n",
              "      <td>Datsun RediGO T Option</td>\n",
              "      <td>2017</td>\n",
              "      <td>250000.0</td>\n",
              "      <td>46000.0</td>\n",
              "      <td>Petrol</td>\n",
              "      <td>Individual</td>\n",
              "      <td>Manual</td>\n",
              "      <td>First Owner</td>\n",
              "    </tr>\n",
              "    <tr>\n",
              "      <th>17</th>\n",
              "      <td>Honda Amaze VX i-DTEC</td>\n",
              "      <td>2014</td>\n",
              "      <td>450000.0</td>\n",
              "      <td>141000.0</td>\n",
              "      <td>Diesel</td>\n",
              "      <td>Individual</td>\n",
              "      <td>Manual</td>\n",
              "      <td>Second Owner</td>\n",
              "    </tr>\n",
              "    <tr>\n",
              "      <th>18</th>\n",
              "      <td>Maruti Alto LX BSIII</td>\n",
              "      <td>2007</td>\n",
              "      <td>140000.0</td>\n",
              "      <td>125000.0</td>\n",
              "      <td>Petrol</td>\n",
              "      <td>Individual</td>\n",
              "      <td>Manual</td>\n",
              "      <td>First Owner</td>\n",
              "    </tr>\n",
              "    <tr>\n",
              "      <th>19</th>\n",
              "      <td>Hyundai Xcent 1.2 Kappa S</td>\n",
              "      <td>2016</td>\n",
              "      <td>550000.0</td>\n",
              "      <td>25000.0</td>\n",
              "      <td>Petrol</td>\n",
              "      <td>Individual</td>\n",
              "      <td>Manual</td>\n",
              "      <td>First Owner</td>\n",
              "    </tr>\n",
              "  </tbody>\n",
              "</table>\n",
              "</div>\n",
              "    <div class=\"colab-df-buttons\">\n",
              "\n",
              "  <div class=\"colab-df-container\">\n",
              "    <button class=\"colab-df-convert\" onclick=\"convertToInteractive('df-bcdd2fcc-258f-40d7-97e0-7561ec5b9542')\"\n",
              "            title=\"Convert this dataframe to an interactive table.\"\n",
              "            style=\"display:none;\">\n",
              "\n",
              "  <svg xmlns=\"http://www.w3.org/2000/svg\" height=\"24px\" viewBox=\"0 -960 960 960\">\n",
              "    <path d=\"M120-120v-720h720v720H120Zm60-500h600v-160H180v160Zm220 220h160v-160H400v160Zm0 220h160v-160H400v160ZM180-400h160v-160H180v160Zm440 0h160v-160H620v160ZM180-180h160v-160H180v160Zm440 0h160v-160H620v160Z\"/>\n",
              "  </svg>\n",
              "    </button>\n",
              "\n",
              "  <style>\n",
              "    .colab-df-container {\n",
              "      display:flex;\n",
              "      gap: 12px;\n",
              "    }\n",
              "\n",
              "    .colab-df-convert {\n",
              "      background-color: #E8F0FE;\n",
              "      border: none;\n",
              "      border-radius: 50%;\n",
              "      cursor: pointer;\n",
              "      display: none;\n",
              "      fill: #1967D2;\n",
              "      height: 32px;\n",
              "      padding: 0 0 0 0;\n",
              "      width: 32px;\n",
              "    }\n",
              "\n",
              "    .colab-df-convert:hover {\n",
              "      background-color: #E2EBFA;\n",
              "      box-shadow: 0px 1px 2px rgba(60, 64, 67, 0.3), 0px 1px 3px 1px rgba(60, 64, 67, 0.15);\n",
              "      fill: #174EA6;\n",
              "    }\n",
              "\n",
              "    .colab-df-buttons div {\n",
              "      margin-bottom: 4px;\n",
              "    }\n",
              "\n",
              "    [theme=dark] .colab-df-convert {\n",
              "      background-color: #3B4455;\n",
              "      fill: #D2E3FC;\n",
              "    }\n",
              "\n",
              "    [theme=dark] .colab-df-convert:hover {\n",
              "      background-color: #434B5C;\n",
              "      box-shadow: 0px 1px 3px 1px rgba(0, 0, 0, 0.15);\n",
              "      filter: drop-shadow(0px 1px 2px rgba(0, 0, 0, 0.3));\n",
              "      fill: #FFFFFF;\n",
              "    }\n",
              "  </style>\n",
              "\n",
              "    <script>\n",
              "      const buttonEl =\n",
              "        document.querySelector('#df-bcdd2fcc-258f-40d7-97e0-7561ec5b9542 button.colab-df-convert');\n",
              "      buttonEl.style.display =\n",
              "        google.colab.kernel.accessAllowed ? 'block' : 'none';\n",
              "\n",
              "      async function convertToInteractive(key) {\n",
              "        const element = document.querySelector('#df-bcdd2fcc-258f-40d7-97e0-7561ec5b9542');\n",
              "        const dataTable =\n",
              "          await google.colab.kernel.invokeFunction('convertToInteractive',\n",
              "                                                    [key], {});\n",
              "        if (!dataTable) return;\n",
              "\n",
              "        const docLinkHtml = 'Like what you see? Visit the ' +\n",
              "          '<a target=\"_blank\" href=https://colab.research.google.com/notebooks/data_table.ipynb>data table notebook</a>'\n",
              "          + ' to learn more about interactive tables.';\n",
              "        element.innerHTML = '';\n",
              "        dataTable['output_type'] = 'display_data';\n",
              "        await google.colab.output.renderOutput(dataTable, element);\n",
              "        const docLink = document.createElement('div');\n",
              "        docLink.innerHTML = docLinkHtml;\n",
              "        element.appendChild(docLink);\n",
              "      }\n",
              "    </script>\n",
              "  </div>\n",
              "\n",
              "\n",
              "    <div id=\"df-181e5325-06c8-4ffe-b831-cd48aa55ec80\">\n",
              "      <button class=\"colab-df-quickchart\" onclick=\"quickchart('df-181e5325-06c8-4ffe-b831-cd48aa55ec80')\"\n",
              "                title=\"Suggest charts\"\n",
              "                style=\"display:none;\">\n",
              "\n",
              "<svg xmlns=\"http://www.w3.org/2000/svg\" height=\"24px\"viewBox=\"0 0 24 24\"\n",
              "     width=\"24px\">\n",
              "    <g>\n",
              "        <path d=\"M19 3H5c-1.1 0-2 .9-2 2v14c0 1.1.9 2 2 2h14c1.1 0 2-.9 2-2V5c0-1.1-.9-2-2-2zM9 17H7v-7h2v7zm4 0h-2V7h2v10zm4 0h-2v-4h2v4z\"/>\n",
              "    </g>\n",
              "</svg>\n",
              "      </button>\n",
              "\n",
              "<style>\n",
              "  .colab-df-quickchart {\n",
              "      --bg-color: #E8F0FE;\n",
              "      --fill-color: #1967D2;\n",
              "      --hover-bg-color: #E2EBFA;\n",
              "      --hover-fill-color: #174EA6;\n",
              "      --disabled-fill-color: #AAA;\n",
              "      --disabled-bg-color: #DDD;\n",
              "  }\n",
              "\n",
              "  [theme=dark] .colab-df-quickchart {\n",
              "      --bg-color: #3B4455;\n",
              "      --fill-color: #D2E3FC;\n",
              "      --hover-bg-color: #434B5C;\n",
              "      --hover-fill-color: #FFFFFF;\n",
              "      --disabled-bg-color: #3B4455;\n",
              "      --disabled-fill-color: #666;\n",
              "  }\n",
              "\n",
              "  .colab-df-quickchart {\n",
              "    background-color: var(--bg-color);\n",
              "    border: none;\n",
              "    border-radius: 50%;\n",
              "    cursor: pointer;\n",
              "    display: none;\n",
              "    fill: var(--fill-color);\n",
              "    height: 32px;\n",
              "    padding: 0;\n",
              "    width: 32px;\n",
              "  }\n",
              "\n",
              "  .colab-df-quickchart:hover {\n",
              "    background-color: var(--hover-bg-color);\n",
              "    box-shadow: 0 1px 2px rgba(60, 64, 67, 0.3), 0 1px 3px 1px rgba(60, 64, 67, 0.15);\n",
              "    fill: var(--button-hover-fill-color);\n",
              "  }\n",
              "\n",
              "  .colab-df-quickchart-complete:disabled,\n",
              "  .colab-df-quickchart-complete:disabled:hover {\n",
              "    background-color: var(--disabled-bg-color);\n",
              "    fill: var(--disabled-fill-color);\n",
              "    box-shadow: none;\n",
              "  }\n",
              "\n",
              "  .colab-df-spinner {\n",
              "    border: 2px solid var(--fill-color);\n",
              "    border-color: transparent;\n",
              "    border-bottom-color: var(--fill-color);\n",
              "    animation:\n",
              "      spin 1s steps(1) infinite;\n",
              "  }\n",
              "\n",
              "  @keyframes spin {\n",
              "    0% {\n",
              "      border-color: transparent;\n",
              "      border-bottom-color: var(--fill-color);\n",
              "      border-left-color: var(--fill-color);\n",
              "    }\n",
              "    20% {\n",
              "      border-color: transparent;\n",
              "      border-left-color: var(--fill-color);\n",
              "      border-top-color: var(--fill-color);\n",
              "    }\n",
              "    30% {\n",
              "      border-color: transparent;\n",
              "      border-left-color: var(--fill-color);\n",
              "      border-top-color: var(--fill-color);\n",
              "      border-right-color: var(--fill-color);\n",
              "    }\n",
              "    40% {\n",
              "      border-color: transparent;\n",
              "      border-right-color: var(--fill-color);\n",
              "      border-top-color: var(--fill-color);\n",
              "    }\n",
              "    60% {\n",
              "      border-color: transparent;\n",
              "      border-right-color: var(--fill-color);\n",
              "    }\n",
              "    80% {\n",
              "      border-color: transparent;\n",
              "      border-right-color: var(--fill-color);\n",
              "      border-bottom-color: var(--fill-color);\n",
              "    }\n",
              "    90% {\n",
              "      border-color: transparent;\n",
              "      border-bottom-color: var(--fill-color);\n",
              "    }\n",
              "  }\n",
              "</style>\n",
              "\n",
              "      <script>\n",
              "        async function quickchart(key) {\n",
              "          const quickchartButtonEl =\n",
              "            document.querySelector('#' + key + ' button');\n",
              "          quickchartButtonEl.disabled = true;  // To prevent multiple clicks.\n",
              "          quickchartButtonEl.classList.add('colab-df-spinner');\n",
              "          try {\n",
              "            const charts = await google.colab.kernel.invokeFunction(\n",
              "                'suggestCharts', [key], {});\n",
              "          } catch (error) {\n",
              "            console.error('Error during call to suggestCharts:', error);\n",
              "          }\n",
              "          quickchartButtonEl.classList.remove('colab-df-spinner');\n",
              "          quickchartButtonEl.classList.add('colab-df-quickchart-complete');\n",
              "        }\n",
              "        (() => {\n",
              "          let quickchartButtonEl =\n",
              "            document.querySelector('#df-181e5325-06c8-4ffe-b831-cd48aa55ec80 button');\n",
              "          quickchartButtonEl.style.display =\n",
              "            google.colab.kernel.accessAllowed ? 'block' : 'none';\n",
              "        })();\n",
              "      </script>\n",
              "    </div>\n",
              "    </div>\n",
              "  </div>\n"
            ],
            "application/vnd.google.colaboratory.intrinsic+json": {
              "type": "dataframe",
              "variable_name": "df",
              "summary": "{\n  \"name\": \"df\",\n  \"rows\": 4344,\n  \"fields\": [\n    {\n      \"column\": \"Name\",\n      \"properties\": {\n        \"dtype\": \"category\",\n        \"num_unique_values\": 1492,\n        \"samples\": [\n          \"Hyundai Verna Transform CRDi VGT ABS\",\n          \"Hyundai Grand i10 1.2 CRDi Sportz Option\",\n          \"Ford EcoSport 1.5 Diesel Trend BSIV\"\n        ],\n        \"semantic_type\": \"\",\n        \"description\": \"\"\n      }\n    },\n    {\n      \"column\": \"year\",\n      \"properties\": {\n        \"dtype\": \"number\",\n        \"std\": 4,\n        \"min\": 1992,\n        \"max\": 2020,\n        \"num_unique_values\": 27,\n        \"samples\": [\n          2013,\n          1996,\n          2011\n        ],\n        \"semantic_type\": \"\",\n        \"description\": \"\"\n      }\n    },\n    {\n      \"column\": \"SellingPrice\",\n      \"properties\": {\n        \"dtype\": \"number\",\n        \"std\": 578446.4597243825,\n        \"min\": 20000.0,\n        \"max\": 8900000.0,\n        \"num_unique_values\": 445,\n        \"samples\": [\n          346000.0,\n          198000.0,\n          385000.0\n        ],\n        \"semantic_type\": \"\",\n        \"description\": \"\"\n      }\n    },\n    {\n      \"column\": \"kmdriven\",\n      \"properties\": {\n        \"dtype\": \"number\",\n        \"std\": 46636.64876411466,\n        \"min\": 1.0,\n        \"max\": 806599.0,\n        \"num_unique_values\": 770,\n        \"samples\": [\n          60516.0,\n          63240.0,\n          54350.0\n        ],\n        \"semantic_type\": \"\",\n        \"description\": \"\"\n      }\n    },\n    {\n      \"column\": \"fuel\",\n      \"properties\": {\n        \"dtype\": \"category\",\n        \"num_unique_values\": 6,\n        \"samples\": [\n          \"Petrol\",\n          \"Diesel\",\n          \"Electric\"\n        ],\n        \"semantic_type\": \"\",\n        \"description\": \"\"\n      }\n    },\n    {\n      \"column\": \"seller_Type\",\n      \"properties\": {\n        \"dtype\": \"category\",\n        \"num_unique_values\": 4,\n        \"samples\": [\n          \"Dealer\",\n          \"Trustmark Dealer\",\n          \"Individual\"\n        ],\n        \"semantic_type\": \"\",\n        \"description\": \"\"\n      }\n    },\n    {\n      \"column\": \"transmission\",\n      \"properties\": {\n        \"dtype\": \"category\",\n        \"num_unique_values\": 2,\n        \"samples\": [\n          \"Automatic\",\n          \"Manual\"\n        ],\n        \"semantic_type\": \"\",\n        \"description\": \"\"\n      }\n    },\n    {\n      \"column\": \"owner\",\n      \"properties\": {\n        \"dtype\": \"category\",\n        \"num_unique_values\": 5,\n        \"samples\": [\n          \"Second Owner\",\n          \"Test Drive Car\"\n        ],\n        \"semantic_type\": \"\",\n        \"description\": \"\"\n      }\n    }\n  ]\n}"
            }
          },
          "metadata": {},
          "execution_count": 35
        }
      ]
    },
    {
      "cell_type": "markdown",
      "source": [
        "2.2 Оценка данных с помощью метода info."
      ],
      "metadata": {
        "id": "Ze-lXxLMhpWv"
      }
    },
    {
      "cell_type": "code",
      "source": [
        "df.info()"
      ],
      "metadata": {
        "id": "bjhngmaLiGM-",
        "colab": {
          "base_uri": "https://localhost:8080/"
        },
        "outputId": "1635bb7d-63d2-4041-e98f-082bd285e68c"
      },
      "execution_count": 36,
      "outputs": [
        {
          "output_type": "stream",
          "name": "stdout",
          "text": [
            "<class 'pandas.core.frame.DataFrame'>\n",
            "RangeIndex: 4344 entries, 0 to 4343\n",
            "Data columns (total 8 columns):\n",
            " #   Column        Non-Null Count  Dtype  \n",
            "---  ------        --------------  -----  \n",
            " 0   Name          4344 non-null   object \n",
            " 1   year          4344 non-null   int64  \n",
            " 2   SellingPrice  4342 non-null   float64\n",
            " 3   kmdriven      4343 non-null   float64\n",
            " 4   fuel          4343 non-null   object \n",
            " 5   seller_Type   4344 non-null   object \n",
            " 6   transmission  4344 non-null   object \n",
            " 7   owner         4344 non-null   object \n",
            "dtypes: float64(2), int64(1), object(5)\n",
            "memory usage: 271.6+ KB\n"
          ]
        }
      ]
    },
    {
      "cell_type": "markdown",
      "source": [
        "2.3 Оценка данных с помощью метода describe."
      ],
      "metadata": {
        "id": "06PDq9DAiMAY"
      }
    },
    {
      "cell_type": "code",
      "source": [
        "df.describe()"
      ],
      "metadata": {
        "id": "cTVFwzO1jQfN",
        "colab": {
          "base_uri": "https://localhost:8080/",
          "height": 300
        },
        "outputId": "4eeea638-d3e4-4cab-c54c-24329002051c"
      },
      "execution_count": 37,
      "outputs": [
        {
          "output_type": "execute_result",
          "data": {
            "text/plain": [
              "              year  SellingPrice       kmdriven\n",
              "count  4344.000000  4.342000e+03    4343.000000\n",
              "mean   2013.092311  5.039987e+05   66193.063320\n",
              "std       4.214543  5.784465e+05   46636.648764\n",
              "min    1992.000000  2.000000e+04       1.000000\n",
              "25%    2011.000000  2.100000e+05   35000.000000\n",
              "50%    2014.000000  3.500000e+05   60000.000000\n",
              "75%    2016.000000  6.000000e+05   90000.000000\n",
              "max    2020.000000  8.900000e+06  806599.000000"
            ],
            "text/html": [
              "\n",
              "  <div id=\"df-b0c7d6ac-21c9-48a8-a0c4-e69f88956697\" class=\"colab-df-container\">\n",
              "    <div>\n",
              "<style scoped>\n",
              "    .dataframe tbody tr th:only-of-type {\n",
              "        vertical-align: middle;\n",
              "    }\n",
              "\n",
              "    .dataframe tbody tr th {\n",
              "        vertical-align: top;\n",
              "    }\n",
              "\n",
              "    .dataframe thead th {\n",
              "        text-align: right;\n",
              "    }\n",
              "</style>\n",
              "<table border=\"1\" class=\"dataframe\">\n",
              "  <thead>\n",
              "    <tr style=\"text-align: right;\">\n",
              "      <th></th>\n",
              "      <th>year</th>\n",
              "      <th>SellingPrice</th>\n",
              "      <th>kmdriven</th>\n",
              "    </tr>\n",
              "  </thead>\n",
              "  <tbody>\n",
              "    <tr>\n",
              "      <th>count</th>\n",
              "      <td>4344.000000</td>\n",
              "      <td>4.342000e+03</td>\n",
              "      <td>4343.000000</td>\n",
              "    </tr>\n",
              "    <tr>\n",
              "      <th>mean</th>\n",
              "      <td>2013.092311</td>\n",
              "      <td>5.039987e+05</td>\n",
              "      <td>66193.063320</td>\n",
              "    </tr>\n",
              "    <tr>\n",
              "      <th>std</th>\n",
              "      <td>4.214543</td>\n",
              "      <td>5.784465e+05</td>\n",
              "      <td>46636.648764</td>\n",
              "    </tr>\n",
              "    <tr>\n",
              "      <th>min</th>\n",
              "      <td>1992.000000</td>\n",
              "      <td>2.000000e+04</td>\n",
              "      <td>1.000000</td>\n",
              "    </tr>\n",
              "    <tr>\n",
              "      <th>25%</th>\n",
              "      <td>2011.000000</td>\n",
              "      <td>2.100000e+05</td>\n",
              "      <td>35000.000000</td>\n",
              "    </tr>\n",
              "    <tr>\n",
              "      <th>50%</th>\n",
              "      <td>2014.000000</td>\n",
              "      <td>3.500000e+05</td>\n",
              "      <td>60000.000000</td>\n",
              "    </tr>\n",
              "    <tr>\n",
              "      <th>75%</th>\n",
              "      <td>2016.000000</td>\n",
              "      <td>6.000000e+05</td>\n",
              "      <td>90000.000000</td>\n",
              "    </tr>\n",
              "    <tr>\n",
              "      <th>max</th>\n",
              "      <td>2020.000000</td>\n",
              "      <td>8.900000e+06</td>\n",
              "      <td>806599.000000</td>\n",
              "    </tr>\n",
              "  </tbody>\n",
              "</table>\n",
              "</div>\n",
              "    <div class=\"colab-df-buttons\">\n",
              "\n",
              "  <div class=\"colab-df-container\">\n",
              "    <button class=\"colab-df-convert\" onclick=\"convertToInteractive('df-b0c7d6ac-21c9-48a8-a0c4-e69f88956697')\"\n",
              "            title=\"Convert this dataframe to an interactive table.\"\n",
              "            style=\"display:none;\">\n",
              "\n",
              "  <svg xmlns=\"http://www.w3.org/2000/svg\" height=\"24px\" viewBox=\"0 -960 960 960\">\n",
              "    <path d=\"M120-120v-720h720v720H120Zm60-500h600v-160H180v160Zm220 220h160v-160H400v160Zm0 220h160v-160H400v160ZM180-400h160v-160H180v160Zm440 0h160v-160H620v160ZM180-180h160v-160H180v160Zm440 0h160v-160H620v160Z\"/>\n",
              "  </svg>\n",
              "    </button>\n",
              "\n",
              "  <style>\n",
              "    .colab-df-container {\n",
              "      display:flex;\n",
              "      gap: 12px;\n",
              "    }\n",
              "\n",
              "    .colab-df-convert {\n",
              "      background-color: #E8F0FE;\n",
              "      border: none;\n",
              "      border-radius: 50%;\n",
              "      cursor: pointer;\n",
              "      display: none;\n",
              "      fill: #1967D2;\n",
              "      height: 32px;\n",
              "      padding: 0 0 0 0;\n",
              "      width: 32px;\n",
              "    }\n",
              "\n",
              "    .colab-df-convert:hover {\n",
              "      background-color: #E2EBFA;\n",
              "      box-shadow: 0px 1px 2px rgba(60, 64, 67, 0.3), 0px 1px 3px 1px rgba(60, 64, 67, 0.15);\n",
              "      fill: #174EA6;\n",
              "    }\n",
              "\n",
              "    .colab-df-buttons div {\n",
              "      margin-bottom: 4px;\n",
              "    }\n",
              "\n",
              "    [theme=dark] .colab-df-convert {\n",
              "      background-color: #3B4455;\n",
              "      fill: #D2E3FC;\n",
              "    }\n",
              "\n",
              "    [theme=dark] .colab-df-convert:hover {\n",
              "      background-color: #434B5C;\n",
              "      box-shadow: 0px 1px 3px 1px rgba(0, 0, 0, 0.15);\n",
              "      filter: drop-shadow(0px 1px 2px rgba(0, 0, 0, 0.3));\n",
              "      fill: #FFFFFF;\n",
              "    }\n",
              "  </style>\n",
              "\n",
              "    <script>\n",
              "      const buttonEl =\n",
              "        document.querySelector('#df-b0c7d6ac-21c9-48a8-a0c4-e69f88956697 button.colab-df-convert');\n",
              "      buttonEl.style.display =\n",
              "        google.colab.kernel.accessAllowed ? 'block' : 'none';\n",
              "\n",
              "      async function convertToInteractive(key) {\n",
              "        const element = document.querySelector('#df-b0c7d6ac-21c9-48a8-a0c4-e69f88956697');\n",
              "        const dataTable =\n",
              "          await google.colab.kernel.invokeFunction('convertToInteractive',\n",
              "                                                    [key], {});\n",
              "        if (!dataTable) return;\n",
              "\n",
              "        const docLinkHtml = 'Like what you see? Visit the ' +\n",
              "          '<a target=\"_blank\" href=https://colab.research.google.com/notebooks/data_table.ipynb>data table notebook</a>'\n",
              "          + ' to learn more about interactive tables.';\n",
              "        element.innerHTML = '';\n",
              "        dataTable['output_type'] = 'display_data';\n",
              "        await google.colab.output.renderOutput(dataTable, element);\n",
              "        const docLink = document.createElement('div');\n",
              "        docLink.innerHTML = docLinkHtml;\n",
              "        element.appendChild(docLink);\n",
              "      }\n",
              "    </script>\n",
              "  </div>\n",
              "\n",
              "\n",
              "    <div id=\"df-5d173d35-3a46-4ad5-8e0a-1b2142d96508\">\n",
              "      <button class=\"colab-df-quickchart\" onclick=\"quickchart('df-5d173d35-3a46-4ad5-8e0a-1b2142d96508')\"\n",
              "                title=\"Suggest charts\"\n",
              "                style=\"display:none;\">\n",
              "\n",
              "<svg xmlns=\"http://www.w3.org/2000/svg\" height=\"24px\"viewBox=\"0 0 24 24\"\n",
              "     width=\"24px\">\n",
              "    <g>\n",
              "        <path d=\"M19 3H5c-1.1 0-2 .9-2 2v14c0 1.1.9 2 2 2h14c1.1 0 2-.9 2-2V5c0-1.1-.9-2-2-2zM9 17H7v-7h2v7zm4 0h-2V7h2v10zm4 0h-2v-4h2v4z\"/>\n",
              "    </g>\n",
              "</svg>\n",
              "      </button>\n",
              "\n",
              "<style>\n",
              "  .colab-df-quickchart {\n",
              "      --bg-color: #E8F0FE;\n",
              "      --fill-color: #1967D2;\n",
              "      --hover-bg-color: #E2EBFA;\n",
              "      --hover-fill-color: #174EA6;\n",
              "      --disabled-fill-color: #AAA;\n",
              "      --disabled-bg-color: #DDD;\n",
              "  }\n",
              "\n",
              "  [theme=dark] .colab-df-quickchart {\n",
              "      --bg-color: #3B4455;\n",
              "      --fill-color: #D2E3FC;\n",
              "      --hover-bg-color: #434B5C;\n",
              "      --hover-fill-color: #FFFFFF;\n",
              "      --disabled-bg-color: #3B4455;\n",
              "      --disabled-fill-color: #666;\n",
              "  }\n",
              "\n",
              "  .colab-df-quickchart {\n",
              "    background-color: var(--bg-color);\n",
              "    border: none;\n",
              "    border-radius: 50%;\n",
              "    cursor: pointer;\n",
              "    display: none;\n",
              "    fill: var(--fill-color);\n",
              "    height: 32px;\n",
              "    padding: 0;\n",
              "    width: 32px;\n",
              "  }\n",
              "\n",
              "  .colab-df-quickchart:hover {\n",
              "    background-color: var(--hover-bg-color);\n",
              "    box-shadow: 0 1px 2px rgba(60, 64, 67, 0.3), 0 1px 3px 1px rgba(60, 64, 67, 0.15);\n",
              "    fill: var(--button-hover-fill-color);\n",
              "  }\n",
              "\n",
              "  .colab-df-quickchart-complete:disabled,\n",
              "  .colab-df-quickchart-complete:disabled:hover {\n",
              "    background-color: var(--disabled-bg-color);\n",
              "    fill: var(--disabled-fill-color);\n",
              "    box-shadow: none;\n",
              "  }\n",
              "\n",
              "  .colab-df-spinner {\n",
              "    border: 2px solid var(--fill-color);\n",
              "    border-color: transparent;\n",
              "    border-bottom-color: var(--fill-color);\n",
              "    animation:\n",
              "      spin 1s steps(1) infinite;\n",
              "  }\n",
              "\n",
              "  @keyframes spin {\n",
              "    0% {\n",
              "      border-color: transparent;\n",
              "      border-bottom-color: var(--fill-color);\n",
              "      border-left-color: var(--fill-color);\n",
              "    }\n",
              "    20% {\n",
              "      border-color: transparent;\n",
              "      border-left-color: var(--fill-color);\n",
              "      border-top-color: var(--fill-color);\n",
              "    }\n",
              "    30% {\n",
              "      border-color: transparent;\n",
              "      border-left-color: var(--fill-color);\n",
              "      border-top-color: var(--fill-color);\n",
              "      border-right-color: var(--fill-color);\n",
              "    }\n",
              "    40% {\n",
              "      border-color: transparent;\n",
              "      border-right-color: var(--fill-color);\n",
              "      border-top-color: var(--fill-color);\n",
              "    }\n",
              "    60% {\n",
              "      border-color: transparent;\n",
              "      border-right-color: var(--fill-color);\n",
              "    }\n",
              "    80% {\n",
              "      border-color: transparent;\n",
              "      border-right-color: var(--fill-color);\n",
              "      border-bottom-color: var(--fill-color);\n",
              "    }\n",
              "    90% {\n",
              "      border-color: transparent;\n",
              "      border-bottom-color: var(--fill-color);\n",
              "    }\n",
              "  }\n",
              "</style>\n",
              "\n",
              "      <script>\n",
              "        async function quickchart(key) {\n",
              "          const quickchartButtonEl =\n",
              "            document.querySelector('#' + key + ' button');\n",
              "          quickchartButtonEl.disabled = true;  // To prevent multiple clicks.\n",
              "          quickchartButtonEl.classList.add('colab-df-spinner');\n",
              "          try {\n",
              "            const charts = await google.colab.kernel.invokeFunction(\n",
              "                'suggestCharts', [key], {});\n",
              "          } catch (error) {\n",
              "            console.error('Error during call to suggestCharts:', error);\n",
              "          }\n",
              "          quickchartButtonEl.classList.remove('colab-df-spinner');\n",
              "          quickchartButtonEl.classList.add('colab-df-quickchart-complete');\n",
              "        }\n",
              "        (() => {\n",
              "          let quickchartButtonEl =\n",
              "            document.querySelector('#df-5d173d35-3a46-4ad5-8e0a-1b2142d96508 button');\n",
              "          quickchartButtonEl.style.display =\n",
              "            google.colab.kernel.accessAllowed ? 'block' : 'none';\n",
              "        })();\n",
              "      </script>\n",
              "    </div>\n",
              "    </div>\n",
              "  </div>\n"
            ],
            "application/vnd.google.colaboratory.intrinsic+json": {
              "type": "dataframe",
              "summary": "{\n  \"name\": \"df\",\n  \"rows\": 8,\n  \"fields\": [\n    {\n      \"column\": \"year\",\n      \"properties\": {\n        \"dtype\": \"number\",\n        \"std\": 1162.340479252568,\n        \"min\": 4.214542960776095,\n        \"max\": 4344.0,\n        \"num_unique_values\": 8,\n        \"samples\": [\n          2013.0923112338858,\n          2014.0,\n          4344.0\n        ],\n        \"semantic_type\": \"\",\n        \"description\": \"\"\n      }\n    },\n    {\n      \"column\": \"SellingPrice\",\n      \"properties\": {\n        \"dtype\": \"number\",\n        \"std\": 3041110.9775059856,\n        \"min\": 4342.0,\n        \"max\": 8900000.0,\n        \"num_unique_values\": 8,\n        \"samples\": [\n          503998.7409028098,\n          350000.0,\n          4342.0\n        ],\n        \"semantic_type\": \"\",\n        \"description\": \"\"\n      }\n    },\n    {\n      \"column\": \"kmdriven\",\n      \"properties\": {\n        \"dtype\": \"number\",\n        \"std\": 271616.9022743499,\n        \"min\": 1.0,\n        \"max\": 806599.0,\n        \"num_unique_values\": 8,\n        \"samples\": [\n          66193.06332028551,\n          60000.0,\n          4343.0\n        ],\n        \"semantic_type\": \"\",\n        \"description\": \"\"\n      }\n    }\n  ]\n}"
            }
          },
          "metadata": {},
          "execution_count": 37
        }
      ]
    },
    {
      "cell_type": "markdown",
      "source": [
        "\n",
        "---\n",
        "\n",
        "**Сделать выводы. Вы должны понимать, что означает тот или иной столбец, чтобы\n",
        " ответить на вопросы на защите.**\n",
        "\n",
        "\n",
        " ---\n"
      ],
      "metadata": {
        "id": "oOZUrZGuiGqc"
      }
    },
    {
      "cell_type": "markdown",
      "source": [
        " 2.4 Оценка названий столбцов"
      ],
      "metadata": {
        "id": "JTbo0IGDiHxn"
      }
    },
    {
      "cell_type": "code",
      "source": [
        "df.columns"
      ],
      "metadata": {
        "id": "9NEyi2Odik3e",
        "colab": {
          "base_uri": "https://localhost:8080/"
        },
        "outputId": "6c8441d7-6407-4b43-9a14-bfcb570d39e4"
      },
      "execution_count": 38,
      "outputs": [
        {
          "output_type": "execute_result",
          "data": {
            "text/plain": [
              "Index(['Name', 'year', 'SellingPrice', 'kmdriven', 'fuel', 'seller_Type',\n",
              "       'transmission', 'owner'],\n",
              "      dtype='object')"
            ]
          },
          "metadata": {},
          "execution_count": 38
        }
      ]
    },
    {
      "cell_type": "code",
      "source": [
        "df = df.rename(columns={'SellingPrice': 'price', 'kmdriven': 'mileage',})\n",
        "df.columns = df.columns.str.lower()"
      ],
      "metadata": {
        "id": "QSJBLl4qjjP8"
      },
      "execution_count": 39,
      "outputs": []
    },
    {
      "cell_type": "code",
      "source": [
        "df.columns"
      ],
      "metadata": {
        "colab": {
          "base_uri": "https://localhost:8080/"
        },
        "id": "pZvSEbyln9LS",
        "outputId": "8dee477a-e1dd-40fb-af23-f83d7c4cf071"
      },
      "execution_count": 40,
      "outputs": [
        {
          "output_type": "execute_result",
          "data": {
            "text/plain": [
              "Index(['name', 'year', 'price', 'mileage', 'fuel', 'seller_type',\n",
              "       'transmission', 'owner'],\n",
              "      dtype='object')"
            ]
          },
          "metadata": {},
          "execution_count": 40
        }
      ]
    },
    {
      "cell_type": "markdown",
      "source": [
        "### 3. Проверка пропусков"
      ],
      "metadata": {
        "id": "V0tLQcyrjnA_"
      }
    },
    {
      "cell_type": "code",
      "source": [
        "print(df.isna().sum())"
      ],
      "metadata": {
        "id": "xuTz-Avjj9AW",
        "colab": {
          "base_uri": "https://localhost:8080/"
        },
        "outputId": "02f715ea-0044-4758-bbfd-3ecd53a0bdab"
      },
      "execution_count": 41,
      "outputs": [
        {
          "output_type": "stream",
          "name": "stdout",
          "text": [
            "name            0\n",
            "year            0\n",
            "price           2\n",
            "mileage         1\n",
            "fuel            1\n",
            "seller_type     0\n",
            "transmission    0\n",
            "owner           0\n",
            "dtype: int64\n"
          ]
        }
      ]
    },
    {
      "cell_type": "code",
      "source": [
        "df = df.dropna(subset=['price', 'mileage', 'fuel'])\n",
        "print(df.isna().sum())"
      ],
      "metadata": {
        "colab": {
          "base_uri": "https://localhost:8080/"
        },
        "id": "qkDSvAfeoq1c",
        "outputId": "4470c7d8-031e-4724-eef5-2c242aa2d7dc"
      },
      "execution_count": 42,
      "outputs": [
        {
          "output_type": "stream",
          "name": "stdout",
          "text": [
            "name            0\n",
            "year            0\n",
            "price           0\n",
            "mileage         0\n",
            "fuel            0\n",
            "seller_type     0\n",
            "transmission    0\n",
            "owner           0\n",
            "dtype: int64\n"
          ]
        }
      ]
    },
    {
      "cell_type": "markdown",
      "source": [
        "\n",
        "---\n",
        "\n",
        "**Вы должны аргументировать на защите, почему были выполнены те или иные действия с пропусками, а также знать другие способы работы с пропусками, чтобы\n",
        " ответить на вопросы на защите.**\n",
        "\n",
        "\n",
        " ---"
      ],
      "metadata": {
        "id": "efZ7vgSVkPQH"
      }
    },
    {
      "cell_type": "markdown",
      "source": [
        "### 4. Проверка дубликатов"
      ],
      "metadata": {
        "id": "kkyrXXHikEXk"
      }
    },
    {
      "cell_type": "markdown",
      "source": [
        "#### Проверка явных дубликатов"
      ],
      "metadata": {
        "id": "ImqHvr3okIQ6"
      }
    },
    {
      "cell_type": "code",
      "source": [
        "df[df.duplicated()]\n",
        "print(df.duplicated().sum())"
      ],
      "metadata": {
        "id": "qu1oh-e5lDZ1",
        "colab": {
          "base_uri": "https://localhost:8080/"
        },
        "outputId": "bce58010-856a-4695-915b-1e52d1bace8c"
      },
      "execution_count": 43,
      "outputs": [
        {
          "output_type": "stream",
          "name": "stdout",
          "text": [
            "763\n"
          ]
        }
      ]
    },
    {
      "cell_type": "code",
      "source": [
        "df = df.drop_duplicates().reset_index()\n",
        "df[df.duplicated()]\n",
        "print(df.duplicated().sum())"
      ],
      "metadata": {
        "id": "ntArgvChkK26",
        "colab": {
          "base_uri": "https://localhost:8080/"
        },
        "outputId": "75435cf8-99b8-4bd9-deb9-23c5c08effa2"
      },
      "execution_count": 44,
      "outputs": [
        {
          "output_type": "stream",
          "name": "stdout",
          "text": [
            "0\n"
          ]
        }
      ]
    },
    {
      "cell_type": "markdown",
      "source": [
        "#### Проверка неявных дубликатов"
      ],
      "metadata": {
        "id": "VeHTMcOmkLSw"
      }
    },
    {
      "cell_type": "code",
      "source": [
        "print(df['name'].unique(), '\\n',\n",
        "      df['year'].unique(), '\\n',\n",
        "      df['price'].unique(), '\\n',\n",
        "      df['mileage'].unique(), '\\n',\n",
        "      df['fuel'].unique(), '\\n',\n",
        "      df['seller_type'].unique(), '\\n',\n",
        "      df['transmission'].unique(), '\\n',\n",
        "      df['owner'].unique())"
      ],
      "metadata": {
        "id": "-uOPKHlVlGo8",
        "colab": {
          "base_uri": "https://localhost:8080/"
        },
        "outputId": "d66f074b-073f-417b-cb91-000005ad6452"
      },
      "execution_count": 45,
      "outputs": [
        {
          "output_type": "stream",
          "name": "stdout",
          "text": [
            "['Maruti 800 AC' 'Maruti Wagon R LXI Minor' 'Hyundai Verna 1.6 SX' ...\n",
            " 'Mahindra Verito 1.5 D6 BSIII'\n",
            " 'Toyota Innova 2.5 VX (Diesel) 8 Seater BS IV'\n",
            " 'Hyundai i20 Magna 1.4 CRDi'] \n",
            " [2007 2012 2017 2014 2016 2015 2018 2019 2013 2011 2010 2009 2006 1996\n",
            " 2005 2008 2004 1998 2003 2002 2020 2000 1999 2001 1995 1997 1992] \n",
            " [  60000.  135000.  600000.  250000.  450000.  140000.  550000.  240000.\n",
            "  850000.  365000.  260000. 1650000.  585000. 1195000.  390000. 1964999.\n",
            " 1425000.  975000. 1190000.  930000.  525000. 1735000. 1375000.  900000.\n",
            " 1300000. 1400000.  229999. 1550000. 1250000.  625000. 1050000.  560000.\n",
            "  290000.  275000.  411000.  150000.  500000.  100000.  725000.  401000.\n",
            "  750000.  310000.  665000.  465000.  160000.  675000.  300000.   70000.\n",
            "  151000.  280000.  350000.  570000.  125000.  130000.  925000.  200000.\n",
            "  248000.   80000.  650000.  495000.  371000. 1025000. 8150000.  325000.\n",
            " 1470000. 2800000.  210000. 1150000. 4500000. 2750000. 1975000.  175000.\n",
            " 2500000.  628000.  399000.  315000.  780000.  434000.  690000.  555000.\n",
            "  120000.  165000.   95000.  800000.  840000.  490000.  400000. 1000000.\n",
            "  530000.   40000.   75000.  540000.  700000.  430000.   65000.  195000.\n",
            "  170000.  225000.   99000.  620000. 2550000.  320000.  810000.  282000.\n",
            "   72000.  640000.  380000. 1500000.  434999.  190000. 2900000.  425000.\n",
            "  265000.  890000.  685000.  940000.  590000.  385000. 2000000.  235000.\n",
            "   52000.   89999.  180000.  285000. 1075000.   90000.  220000.  110000.\n",
            "  880000.  115999.  360000.  680000.  860000.  270000.  395000.  624000.\n",
            "  345000.  106000. 1800000.  575000.  370000.   50000.   55000.  755000.\n",
            "  720000. 1100000.  159000.  335000.  185000.  470000.  145000.  595000.\n",
            " 1600000.  105000.  409999.  215000.  475000.  330000. 1044999. 1350000.\n",
            "  420000.  760000.   43000. 1850000. 1125000.  133000.  352000.  520000.\n",
            "  509999.  556000.  484999.  565000.  295000. 2050000. 1475000. 4400000.\n",
            "  670000.  770000.  775000. 1725000. 2150000. 3800000. 1580000. 4950000.\n",
            "  535000.  239000. 2600000.  114999.  200999.  710000.  969999.  155000.\n",
            "  138000.  311000.   58000.  183000.  825000.  299000.  639000.  415000.\n",
            " 1199000.  699000.  269000.  249000. 1549000.  254999.  211000.  599000.\n",
            " 4000000. 1200000.   98000.  790000. 1700000.   68000.  875000. 1330000.\n",
            "  919999.  611000.  711000.  851000.  610000.  744000.  480000.  950000.\n",
            "   85000.  615000.  227000.  222000.  735000.  271000. 1490000.  455000.\n",
            "  421000. 2700000. 4700000. 1900000. 1770000.  660000.  716000.  147000.\n",
            " 1140000. 3050000.  375000. 1950000.  340000. 3100000.  245000.  715000.\n",
            " 1750000. 3500000.  835000. 2490000. 1015000.   91200. 2400000.  635000.\n",
            "  302000.  204999.  341000.  819999.  351000.  630000. 1085000.  580000.\n",
            "   78000. 3200000.  695000.  355000.  619000.   81000.  486000.  802000.\n",
            " 2300000.  287000.  250999.   45000. 1485000. 1825000. 3256000.  451000.\n",
            "  149000.  163000.  419000.  990000.  346000.  509000.   69000. 1380000.\n",
            "  256000.   97000.  199000. 2595000.  730000.  368000.  545000.  641000.\n",
            "  784000.  324000. 2100000.  305000.  221000.  828999. 1119000.  746000.\n",
            " 1030000. 1334000.  811999. 1331000.  852000.  830000.  213000.   35000.\n",
            "  869999.  178000.  515000.  312000.  111000.  774000.  148000.   57000.\n",
            "  284000.  349000.  458000.  381000.  751000.  782000.  321000.   92800.\n",
            "  291000.   73000.  655000.  263000.  217000.  539000.  142000.  910000.\n",
            "  740000.  164000.  999000.   56000. 3899000.  440000.  238000. 1295000.\n",
            "  541000.  894999.  844999.  288000. 1225000. 1010000.   30000.  396000.\n",
            "  281000.   93000.  459999.   88000.   22000.   79000.  198000.  182000.\n",
            "  861999.  836000.  696000.  596000.  612000.   20000.   61000.  511000.\n",
            " 1230000.  426000.   62000. 1450000.   71000. 2200000. 1249000. 1240000.\n",
            " 1068000. 1189000.  363000.  821000.  815000.  738000.  765000.  516000.\n",
            "  134000.  347000. 2650000. 2675000.  359000.  980000.  707000.  471000.\n",
            "  377000.  763000.  701000.  277000.  936999.   82000.  799000. 1451000.\n",
            " 1575000.   78692.  479000.   48000.  121000.  785000.  173000. 4800000.\n",
            "  587000.  123000. 1290000.  193000.  721000. 1040000. 2349000. 1165000.\n",
            "   42000. 1680000.  231999.  841000. 1280000. 1090000.  449000.  724000.\n",
            "  126000.  795000. 2575000. 1035000. 1260000. 8900000. 1860000. 4200000.\n",
            " 5500000.  430999. 1151000.  927999.   51111.  212000.  428000.  219000.\n",
            "  749000.  233000.  614000.   37500.  865000.] \n",
            " [7.00000e+04 5.00000e+04 1.00000e+05 4.60000e+04 1.41000e+05 1.25000e+05\n",
            " 2.50000e+04 6.00000e+04 7.80000e+04 3.50000e+04 2.40000e+04 5.00000e+03\n",
            " 3.30000e+04 2.80000e+04 5.90000e+04 4.50000e+03 1.75900e+05 1.45000e+04\n",
            " 1.50000e+04 3.38000e+04 1.30400e+05 8.00000e+04 1.00000e+04 1.19000e+05\n",
            " 7.58000e+04 4.00000e+04 7.40000e+04 6.40000e+04 1.20000e+05 7.90000e+04\n",
            " 1.85000e+04 1.02000e+04 2.90000e+04 9.00000e+04 7.33000e+04 9.20000e+04\n",
            " 6.67640e+04 3.50000e+05 2.30000e+05 3.10000e+04 3.90000e+04 1.66000e+05\n",
            " 1.10000e+05 5.40000e+04 6.30000e+04 7.60000e+04 1.19580e+04 2.00000e+04\n",
            " 9.00000e+03 6.50000e+03 5.80000e+04 6.22000e+04 3.40000e+04 5.30000e+04\n",
            " 4.90000e+04 6.35000e+04 9.80000e+03 1.30000e+04 2.10000e+04 2.91730e+04\n",
            " 4.80000e+04 3.00000e+04 8.70000e+04 1.60000e+04 7.93500e+04 8.10000e+04\n",
            " 3.60000e+03 1.42720e+04 4.92130e+04 5.70000e+04 3.24000e+03 1.14000e+05\n",
            " 5.37720e+04 1.40000e+05 1.75000e+05 3.60000e+04 1.55500e+05 2.30000e+04\n",
            " 2.21550e+04 7.83800e+04 1.50000e+05 8.03620e+04 5.50000e+04 1.13600e+03\n",
            " 4.30000e+04 2.65000e+03 1.15962e+05 6.50000e+04 5.60000e+04 2.13000e+05\n",
            " 1.39000e+05 1.60000e+05 1.63000e+05 3.20000e+04 5.20000e+04 1.12400e+04\n",
            " 6.60000e+04 2.65000e+04 7.20000e+04 4.40000e+04 1.30000e+05 1.95000e+05\n",
            " 1.55000e+05 4.00000e+03 4.10000e+04 1.08320e+04 1.46810e+04 5.10000e+04\n",
            " 2.00000e+05 1.96000e+04 4.67300e+04 2.11700e+04 1.67223e+05 1.41440e+05\n",
            " 2.12814e+05 8.86350e+04 1.49674e+05 8.00000e+03 6.80000e+04 3.80000e+04\n",
            " 7.50000e+04 9.80000e+04 8.19250e+04 8.20800e+04 9.70000e+04 5.20470e+04\n",
            " 6.20090e+04 3.31000e+04 2.20000e+05 4.50000e+04 1.80000e+05 2.20000e+04\n",
            " 8.05770e+04 1.27500e+05 4.09030e+04 2.22880e+04 6.16900e+04 6.44840e+04\n",
            " 7.59760e+04 8.59620e+04 5.70350e+04 7.21040e+04 1.64000e+05 1.24439e+05\n",
            " 7.70000e+04 1.25000e+03 1.71520e+04 2.40050e+04 1.49000e+05 1.90000e+04\n",
            " 1.09000e+05 6.10000e+04 2.76330e+04 1.25860e+04 3.80830e+04 5.53280e+04\n",
            " 8.16320e+04 1.55201e+05 9.32830e+04 2.17871e+05 9.01650e+04 1.01504e+05\n",
            " 8.60170e+04 8.50360e+04 9.10860e+04 1.60254e+05 1.25531e+05 8.20000e+04\n",
            " 8.40000e+04 5.60000e+05 1.43650e+04 6.10830e+04 6.63630e+04 1.17000e+04\n",
            " 7.10400e+03 4.59740e+04 5.53400e+04 6.15850e+04 3.94150e+04 2.96540e+04\n",
            " 6.46720e+04 5.46340e+04 6.65210e+04 2.39740e+04 1.00000e+03 8.60000e+04\n",
            " 5.26000e+04 1.98900e+04 1.19180e+04 1.05100e+04 4.71620e+04 4.98240e+04\n",
            " 5.85000e+04 5.65800e+04 4.65070e+04 1.14510e+04 1.72000e+05 6.65080e+04\n",
            " 2.99000e+04 3.00000e+03 8.50000e+04 7.90000e+03 1.75000e+04 2.06500e+05\n",
            " 8.86000e+04 1.86000e+05 1.10000e+04 1.38000e+05 2.79740e+04 1.80000e+04\n",
            " 1.40000e+03 1.24000e+05 4.20000e+04 2.82050e+04 3.26700e+04 3.00930e+04\n",
            " 5.62280e+04 5.93190e+04 3.95030e+04 3.52990e+04 5.16870e+04 7.62590e+04\n",
            " 4.40490e+04 4.50870e+04 4.11250e+04 4.22150e+04 5.42060e+04 5.25470e+04\n",
            " 5.91100e+04 5.45650e+04 4.75640e+04 4.51430e+04 6.16240e+04 1.32000e+05\n",
            " 1.09800e+04 2.06290e+04 6.97820e+04 6.36540e+04 5.93850e+04 7.03780e+04\n",
            " 5.54250e+04 7.84130e+04 4.08900e+04 3.48230e+04 5.55450e+04 5.65410e+04\n",
            " 4.37000e+04 2.74830e+04 5.62070e+04 1.44000e+03 9.11950e+04 6.36570e+04\n",
            " 9.72480e+04 8.90000e+04 1.20000e+04 1.29970e+04 2.64300e+04 2.46000e+04\n",
            " 2.84810e+04 4.19880e+04 3.03750e+04 7.65800e+03 3.44000e+04 2.89420e+04\n",
            " 5.36000e+04 5.36520e+04 1.06000e+05 2.05000e+05 7.95000e+04 1.97000e+05\n",
            " 9.16100e+03 1.90770e+04 1.28000e+05 2.13020e+04 1.05000e+04 1.07000e+05\n",
            " 5.53000e+04 7.43000e+04 4.87810e+04 8.76200e+04 4.02190e+04 1.14730e+04\n",
            " 8.35200e+03 9.74500e+03 9.74800e+03 2.06940e+04 3.10800e+04 3.76050e+04\n",
            " 5.58500e+04 5.88500e+04 2.38390e+04 4.54540e+04 4.69570e+04 1.90000e+05\n",
            " 1.50000e+03 4.70000e+04 1.16000e+05 2.63500e+04 7.10420e+04 1.67870e+05\n",
            " 1.33564e+05 2.30380e+04 4.36080e+04 1.12120e+04 4.92170e+04 2.88380e+04\n",
            " 1.35000e+05 1.95710e+04 2.96000e+04 1.35000e+04 4.86000e+04 1.27643e+05\n",
            " 1.02354e+05 6.22370e+04 2.13940e+04 3.26860e+04 1.00100e+03 5.32610e+04\n",
            " 1.40000e+04 3.98950e+04 7.30000e+04 1.70000e+04 1.85910e+04 2.67660e+04\n",
            " 3.00000e+05 2.76200e+04 2.23000e+05 1.61327e+05 6.00000e+03 7.10000e+04\n",
            " 1.44000e+05 3.70000e+04 2.60000e+04 2.70000e+04 1.32500e+04 1.01000e+05\n",
            " 8.50000e+03 9.02460e+04 6.04000e+04 7.09500e+04 1.10000e+03 3.14910e+04\n",
            " 1.07143e+05 4.64120e+04 1.07500e+05 4.38260e+04 5.58380e+04 1.12880e+05\n",
            " 3.03000e+04 8.06590e+04 8.13240e+04 1.27884e+05 6.67550e+04 1.23084e+05\n",
            " 8.06599e+05 9.58510e+04 2.34000e+05 1.70000e+05 9.60000e+04 1.90140e+04\n",
            " 2.32620e+04 3.59250e+04 4.07710e+04 3.05000e+04 5.58000e+04 6.65690e+04\n",
            " 8.13580e+04 8.26950e+04 6.82930e+04 1.90621e+05 6.47000e+04 8.84700e+04\n",
            " 1.26000e+05 7.41830e+04 1.00000e+00 1.92000e+05 8.34110e+04 1.32700e+04\n",
            " 8.80000e+04 7.00000e+03 1.37700e+04 1.02000e+05 1.43000e+05 1.15000e+05\n",
            " 1.36906e+05 1.33000e+05 2.86890e+04 8.03220e+04 6.16580e+04 1.85000e+05\n",
            " 3.06000e+04 2.35000e+05 6.70000e+04 7.45000e+04 1.18700e+05 2.23660e+05\n",
            " 2.00000e+03 7.37560e+04 1.64000e+04 4.13950e+04 7.10140e+04 1.81000e+05\n",
            " 8.95500e+04 1.49500e+05 8.30000e+04 4.48000e+04 1.56000e+05 1.46000e+05\n",
            " 9.90000e+04 3.75160e+04 2.58800e+04 1.36000e+05 2.02000e+03 9.40000e+04\n",
            " 8.85000e+04 5.25360e+04 1.95000e+03 1.18400e+05 6.48000e+03 3.20770e+04\n",
            " 1.91070e+04 1.84690e+04 2.82170e+04 7.27870e+04 3.10630e+04 7.96410e+04\n",
            " 5.86920e+04 5.47840e+04 6.41560e+04 9.50000e+03 8.13660e+04 2.44000e+05\n",
            " 3.12000e+05 1.45000e+05 7.30000e+03 7.25390e+04 1.01000e+02 5.23280e+04\n",
            " 9.15050e+04 2.05000e+04 1.54000e+05 4.17230e+04 6.87450e+04 2.72890e+04\n",
            " 2.46620e+04 2.82450e+04 2.70050e+04 3.92270e+04 3.13670e+04 3.50080e+04\n",
            " 1.00005e+05 4.52640e+04 3.90930e+04 4.52410e+04 2.76900e+03 4.31280e+04\n",
            " 2.22550e+04 5.92130e+04 1.01000e+03 1.11100e+03 4.89650e+04 5.16600e+03\n",
            " 7.62900e+04 4.57660e+04 7.87710e+04 7.93570e+04 7.67360e+04 9.26450e+04\n",
            " 1.01849e+05 1.55836e+05 6.32300e+04 1.75800e+03 1.45200e+03 3.51220e+04\n",
            " 9.26210e+04 9.21980e+04 1.52000e+05 7.83220e+04 5.43090e+04 3.46000e+04\n",
            " 3.82170e+04 7.70730e+04 1.65840e+04 8.12570e+04 3.91700e+03 6.90690e+04\n",
            " 5.90590e+04 3.90390e+04 3.30330e+04 5.51680e+04 4.10410e+04 6.70670e+04\n",
            " 6.60660e+04 8.20820e+04 7.00700e+04 6.30630e+04 9.52800e+03 1.35200e+05\n",
            " 5.03000e+04 1.51624e+05 7.48200e+04 1.29000e+05 6.67780e+04 6.34000e+04\n",
            " 1.57000e+05 3.85000e+04 1.03921e+05 1.48250e+04 4.33770e+04 1.02307e+05\n",
            " 2.45244e+05 6.85000e+04 5.00700e+03 4.96000e+04 4.31000e+04 1.01710e+04\n",
            " 4.11230e+04 2.01180e+04 5.25170e+04 9.91170e+04 3.70000e+03 4.35000e+04\n",
            " 1.37250e+05 5.40000e+03 1.12000e+04 9.30000e+04 6.20000e+04 5.80000e+03\n",
            " 2.67000e+05 2.50000e+05 2.86350e+04 3.21140e+04 9.51490e+04 6.84580e+04\n",
            " 1.05546e+05 1.04000e+05 1.32343e+05 2.61340e+04 5.28950e+04 4.23240e+04\n",
            " 6.02360e+04 1.03000e+04 1.42000e+05 2.86430e+04 7.60000e+03 4.72530e+04\n",
            " 4.43200e+03 6.85230e+04 8.02510e+04 3.45000e+04 4.27430e+04 9.39000e+04\n",
            " 5.57660e+04 1.13600e+05 1.38925e+05 1.21764e+05 1.05429e+05 2.31220e+04\n",
            " 4.45000e+04 1.35990e+04 5.20000e+03 1.27000e+04 9.50000e+04 4.58390e+04\n",
            " 7.45100e+04 8.72930e+04 1.56040e+05 9.34150e+04 1.01159e+05 6.85190e+04\n",
            " 5.51300e+04 6.52390e+04 5.81820e+04 9.12450e+04 1.02989e+05 1.08000e+05\n",
            " 1.78000e+05 7.51180e+04 4.63700e+03 4.26550e+04 6.90000e+04 1.17000e+05\n",
            " 1.05000e+05 1.82000e+05 2.45850e+04 1.39000e+04 1.75630e+04 1.73000e+05\n",
            " 1.51000e+05 1.17780e+05 8.15950e+04 9.70000e+03 2.21000e+05 2.87400e+04\n",
            " 4.85000e+04 1.48620e+05 2.70000e+05 4.10900e+04 2.96823e+05 8.92550e+04\n",
            " 1.68000e+05 5.55000e+03 1.70000e+03 4.52170e+04 4.44400e+04 9.13650e+04\n",
            " 9.00100e+04 3.18000e+04 5.91000e+04 3.12000e+04 2.27000e+04 5.09000e+04\n",
            " 2.41700e+03 6.55000e+04 1.40300e+05 1.02110e+04 2.60000e+05 3.29330e+04\n",
            " 5.45510e+04 5.71120e+04 4.10250e+04 5.31220e+04 6.41110e+04 7.88920e+04\n",
            " 7.41130e+04 8.47750e+04 2.07780e+04 6.44410e+04 4.31920e+04 4.44160e+04\n",
            " 7.99910e+04 6.26010e+04 8.96000e+04 6.08000e+04 6.91110e+04 2.09690e+04\n",
            " 2.01940e+04 3.49820e+04 4.45880e+04 5.79040e+04 5.92580e+04 6.08260e+04\n",
            " 1.30000e+03 3.17070e+04 1.15992e+05 1.09052e+05 9.06580e+04 2.55520e+04\n",
            " 4.07000e+04 1.11740e+04 7.25000e+04 7.66000e+04 9.77000e+04 3.75000e+04\n",
            " 2.38000e+04 4.40770e+04 2.10000e+05 9.42200e+03 2.40000e+05 1.71000e+04\n",
            " 2.24642e+05 2.22435e+05 1.59000e+05 1.01100e+05 1.20000e+03 1.34444e+05\n",
            " 2.38000e+05 1.65000e+05 6.37000e+04 7.48000e+04 6.05160e+04 7.67310e+04\n",
            " 6.38400e+04 7.64000e+04 3.14890e+04 2.95000e+05 1.58000e+05 4.00000e+05\n",
            " 1.94950e+04 6.26680e+04 8.57100e+04 6.33560e+04 1.29627e+05 4.40000e+03\n",
            " 1.49870e+04 2.50610e+04 4.24940e+04 4.48750e+04 8.97410e+04 3.47089e+05\n",
            " 2.22252e+05 5.52500e+04 1.25000e+04 1.62000e+05 2.20380e+04 2.50000e+03\n",
            " 8.91260e+04 1.34000e+05 4.25000e+04 1.31365e+05 4.89800e+04 9.89000e+04\n",
            " 1.38000e+04 9.97000e+04 4.96540e+04 4.54570e+04 3.92210e+04 4.82200e+04\n",
            " 1.11140e+04 6.02080e+04 9.86000e+04 8.54410e+04 6.45410e+04 1.62670e+04\n",
            " 7.15000e+04 1.29990e+04 1.47000e+04 9.26860e+04 4.93590e+04 1.08731e+05\n",
            " 2.99760e+04 3.06460e+04 2.36000e+04 7.13180e+04 7.80980e+04 1.80540e+04\n",
            " 3.84060e+04 5.43500e+04 3.22600e+04 5.82310e+04 5.98580e+04 7.33500e+04\n",
            " 8.84730e+04 9.69870e+04 7.73500e+04 6.11870e+04 6.83500e+04 8.11500e+04\n",
            " 2.80000e+05 1.05700e+05 3.70910e+04 3.89000e+04 9.40000e+03 1.41000e+04\n",
            " 3.75550e+04 5.66000e+04 6.75800e+04 4.82380e+04 3.83650e+04 2.36700e+04\n",
            " 4.98340e+04 5.73530e+04 6.83080e+04 6.32400e+04 6.49160e+04 3.71610e+04\n",
            " 1.18000e+05 5.08520e+04 5.35000e+04 5.15000e+04 7.98000e+04 6.59000e+03\n",
            " 4.99570e+04 4.32350e+04 5.06990e+04 1.40730e+05 2.56000e+05 2.18000e+05\n",
            " 6.67820e+04 1.12198e+05] \n",
            " ['Petrol' 'Diesel' 'Petroll' 'CNG' 'LPG' 'Electric'] \n",
            " ['Individual' 'Dealer' 'Dealeer' 'Trustmark Dealer'] \n",
            " ['Manual' 'Automatic'] \n",
            " ['First Owner' 'Second Owner' 'Fourth & Above Owner' 'Third Owner'\n",
            " 'Test Drive Car']\n"
          ]
        }
      ]
    },
    {
      "cell_type": "code",
      "source": [
        "print(df['fuel'].value_counts(), '\\n')\n",
        "print(df['seller_type'].value_counts())"
      ],
      "metadata": {
        "id": "89tMFEQ2k_M7",
        "colab": {
          "base_uri": "https://localhost:8080/"
        },
        "outputId": "77487997-0b5b-44ee-8319-0237156eb596"
      },
      "execution_count": 48,
      "outputs": [
        {
          "output_type": "stream",
          "name": "stdout",
          "text": [
            "fuel\n",
            "Diesel      1800\n",
            "Petrol      1718\n",
            "CNG           37\n",
            "LPG           22\n",
            "Petroll        1\n",
            "Electric       1\n",
            "Name: count, dtype: int64 \n",
            "\n",
            "seller_type\n",
            "Individual          2834\n",
            "Dealer               711\n",
            "Trustmark Dealer      33\n",
            "Dealeer                1\n",
            "Name: count, dtype: int64\n"
          ]
        }
      ]
    },
    {
      "cell_type": "code",
      "source": [
        "df['fuel'] = df['fuel'].replace('Petroll', 'Petrol')\n",
        "df['seller_type'] = df['seller_type'].replace('Dealeer', 'Dealer')\n",
        "print(df['fuel'].value_counts(), '\\n')\n",
        "print(df['seller_type'].value_counts())"
      ],
      "metadata": {
        "colab": {
          "base_uri": "https://localhost:8080/"
        },
        "id": "6xWcUZuat8Wa",
        "outputId": "8809ebe2-b98d-4ffd-9984-856d94c21a36"
      },
      "execution_count": 49,
      "outputs": [
        {
          "output_type": "stream",
          "name": "stdout",
          "text": [
            "fuel\n",
            "Diesel      1800\n",
            "Petrol      1719\n",
            "CNG           37\n",
            "LPG           22\n",
            "Electric       1\n",
            "Name: count, dtype: int64 \n",
            "\n",
            "seller_type\n",
            "Individual          2834\n",
            "Dealer               712\n",
            "Trustmark Dealer      33\n",
            "Name: count, dtype: int64\n"
          ]
        }
      ]
    },
    {
      "cell_type": "markdown",
      "source": [
        "---\n",
        "\n",
        "**Вы должны аргументировать на защите, почему были выполнены те или иные действия с дубликатами, знать, что такое явные и неявные дубликаты и способы работы с ними, чтобы ответить на вопросы на защите.**\n",
        "\n",
        "\n",
        " ---"
      ],
      "metadata": {
        "id": "GMcnDpOmlKhU"
      }
    },
    {
      "cell_type": "markdown",
      "source": [
        "### 5. Провека типов данных"
      ],
      "metadata": {
        "id": "md9GhfYMlbi7"
      }
    },
    {
      "cell_type": "code",
      "source": [
        "df.info()"
      ],
      "metadata": {
        "id": "lXTroENaluCW",
        "colab": {
          "base_uri": "https://localhost:8080/"
        },
        "outputId": "a7b06bc3-9b10-4729-e3a8-5a58fde4f3de"
      },
      "execution_count": 51,
      "outputs": [
        {
          "output_type": "stream",
          "name": "stdout",
          "text": [
            "<class 'pandas.core.frame.DataFrame'>\n",
            "RangeIndex: 3579 entries, 0 to 3578\n",
            "Data columns (total 9 columns):\n",
            " #   Column        Non-Null Count  Dtype  \n",
            "---  ------        --------------  -----  \n",
            " 0   index         3579 non-null   int64  \n",
            " 1   name          3579 non-null   object \n",
            " 2   year          3579 non-null   int64  \n",
            " 3   price         3579 non-null   float64\n",
            " 4   mileage       3579 non-null   float64\n",
            " 5   fuel          3579 non-null   object \n",
            " 6   seller_type   3579 non-null   object \n",
            " 7   transmission  3579 non-null   object \n",
            " 8   owner         3579 non-null   object \n",
            "dtypes: float64(2), int64(2), object(5)\n",
            "memory usage: 251.8+ KB\n"
          ]
        }
      ]
    },
    {
      "cell_type": "code",
      "source": [
        "# Проверьте типы данных, при необходимости измените типы данных, чтобы они соответствовали действительности."
      ],
      "metadata": {
        "id": "WXhXgu29lop3"
      },
      "execution_count": null,
      "outputs": []
    },
    {
      "cell_type": "markdown",
      "source": [
        "---\n",
        "\n",
        "**Обратите внимание, что во всех вариантах необходимо сделать приведение типов. Будьте готовы на защите аргументировать проверку типов (почему выполнены те или иные преобразования).**\n",
        "\n",
        "\n",
        " ---"
      ],
      "metadata": {
        "id": "DPDBNN4dlx7W"
      }
    },
    {
      "cell_type": "markdown",
      "source": [
        "### 6. Группировка данных"
      ],
      "metadata": {
        "id": "lzr0SgqlnmHy"
      }
    },
    {
      "cell_type": "markdown",
      "source": [
        "#### Задание 1"
      ],
      "metadata": {
        "id": "QG_dbwzfmZoS"
      }
    },
    {
      "cell_type": "markdown",
      "source": [
        "*`Формулировка задания`*"
      ],
      "metadata": {
        "id": "CyCKTB4DmciW"
      }
    },
    {
      "cell_type": "code",
      "source": [
        "task1 = df.groupby('owner')['transmission'].nunique().reset_index(name='count')\n",
        "print(task1)"
      ],
      "metadata": {
        "id": "tp8Bl1gumYlI",
        "colab": {
          "base_uri": "https://localhost:8080/"
        },
        "outputId": "078638e8-6cfa-467a-a112-e9f84b6b1c2e"
      },
      "execution_count": 53,
      "outputs": [
        {
          "output_type": "stream",
          "name": "stdout",
          "text": [
            "                  owner  count\n",
            "0           First Owner      2\n",
            "1  Fourth & Above Owner      2\n",
            "2          Second Owner      2\n",
            "3        Test Drive Car      2\n",
            "4           Third Owner      2\n"
          ]
        }
      ]
    },
    {
      "cell_type": "markdown",
      "source": [
        "**`Сделайте вывод - интерпретацию - что можно увидеть из результата данной группировки?`**"
      ],
      "metadata": {
        "id": "jLmhNuq0mms3"
      }
    },
    {
      "cell_type": "markdown",
      "source": [
        "---\n",
        "\n",
        "**Обратите внимание, что на защите вы должны ориентироваться в синтаксисе. При необходимости нужно быть готовым изменить код по просьбе преподавателя. Например, вместо среднего значения подсчитать медиану и т.д.**\n",
        "\n",
        "\n",
        " ---"
      ],
      "metadata": {
        "id": "quMr70SmnMXS"
      }
    },
    {
      "cell_type": "markdown",
      "source": [
        "#### Задание 2"
      ],
      "metadata": {
        "id": "j0isGCzEne7a"
      }
    },
    {
      "cell_type": "markdown",
      "source": [
        "*`Формулировка задания`*"
      ],
      "metadata": {
        "id": "kE2vLBWbne7a"
      }
    },
    {
      "cell_type": "code",
      "source": [
        "task2 = (df.groupby('transmission')['fuel'].nunique().reset_index(name='count').sort_values('count', ascending=False))\n",
        "print(task2)"
      ],
      "metadata": {
        "id": "ttn78Zaene7a",
        "colab": {
          "base_uri": "https://localhost:8080/"
        },
        "outputId": "b4171b36-b05d-45bf-99f8-57affc77df95"
      },
      "execution_count": 54,
      "outputs": [
        {
          "output_type": "stream",
          "name": "stdout",
          "text": [
            "  transmission  count\n",
            "1       Manual      4\n",
            "0    Automatic      3\n"
          ]
        }
      ]
    },
    {
      "cell_type": "markdown",
      "source": [
        "**`Сделайте вывод - интерпретацию - что можно увидеть из результата данной группировки?`**"
      ],
      "metadata": {
        "id": "HCyyeAu6ne7a"
      }
    },
    {
      "cell_type": "markdown",
      "source": [
        "---\n",
        "\n",
        "**Обратите внимание, что на защите вы должны ориентироваться в синтаксисе. При необходимости нужно быть готовым изменить код по просьбе преподавателя. Например, вместо среднего значения подсчитать медиану и т.д.**\n",
        "\n",
        "\n",
        " ---"
      ],
      "metadata": {
        "id": "NKLZ0m7Nne7b"
      }
    },
    {
      "cell_type": "markdown",
      "source": [
        "#### Задание 3"
      ],
      "metadata": {
        "id": "_3fHGp64nhUJ"
      }
    },
    {
      "cell_type": "markdown",
      "source": [
        "*`Формулировка задания`*"
      ],
      "metadata": {
        "id": "_Bc4ehyKnhUJ"
      }
    },
    {
      "cell_type": "code",
      "source": [
        "task3 = (pd.pivot_table(df, index='owner', values='price', aggfunc='mean')\n",
        "           .reset_index()\n",
        "           .rename(columns={'price': 'avg_price'})\n",
        "           .sort_values('avg_price', ascending=False)\n",
        "        )['avg_price'].round(2)\n",
        "print(task3.head(50))"
      ],
      "metadata": {
        "id": "siDovPvQnhUJ",
        "colab": {
          "base_uri": "https://localhost:8080/"
        },
        "outputId": "5b618532-55c7-4ab5-b2a1-268d6b99b3d5"
      },
      "execution_count": 55,
      "outputs": [
        {
          "output_type": "stream",
          "name": "stdout",
          "text": [
            "3    954293.94\n",
            "0    565513.71\n",
            "2    341850.00\n",
            "4    266142.21\n",
            "1    181213.29\n",
            "Name: avg_price, dtype: float64\n"
          ]
        }
      ]
    },
    {
      "cell_type": "markdown",
      "source": [
        "**`Сделайте вывод - интерпретацию - что можно увидеть из результата данной сводной таблицы?`**"
      ],
      "metadata": {
        "id": "1-vw8iyUnhUK"
      }
    },
    {
      "cell_type": "markdown",
      "source": [
        "---\n",
        "\n",
        "**Обратите внимание, что на защите вы должны ориентироваться в синтаксисе. При необходимости нужно быть готовым изменить код по просьбе преподавателя. Например, вместо среднего значения подсчитать медиану и т.д.**\n",
        "\n",
        "\n",
        " ---"
      ],
      "metadata": {
        "id": "wKFm0zDenhUK"
      }
    },
    {
      "cell_type": "markdown",
      "source": [
        "#### Задание 4"
      ],
      "metadata": {
        "id": "FOlw74xCniNo"
      }
    },
    {
      "cell_type": "markdown",
      "source": [
        "*`Формулировка задания`*"
      ],
      "metadata": {
        "id": "4tvYwT25niNq"
      }
    },
    {
      "cell_type": "code",
      "source": [
        "task4 = (pd.pivot_table(df, index='year', columns='owner', values='mileage', aggfunc='mean')\n",
        "           .sort_index(ascending=True)\n",
        "           .round(2)\n",
        "        )\n",
        "print(task4.head(50))"
      ],
      "metadata": {
        "id": "TfJ719g6niNq",
        "colab": {
          "base_uri": "https://localhost:8080/"
        },
        "outputId": "61b3b341-9063-4503-83d4-27d965fe3c19"
      },
      "execution_count": 56,
      "outputs": [
        {
          "output_type": "stream",
          "name": "stdout",
          "text": [
            "owner  First Owner  Fourth & Above Owner  Second Owner  Test Drive Car  \\\n",
            "year                                                                     \n",
            "1992           NaN             100000.00           NaN             NaN   \n",
            "1995           NaN                   NaN     100000.00             NaN   \n",
            "1996      60000.00                   NaN      35000.00             NaN   \n",
            "1997      70000.00                   NaN      80000.00             NaN   \n",
            "1998           NaN              60000.00      76000.00             NaN   \n",
            "1999      70000.00              80000.00      65404.00             NaN   \n",
            "2000      77500.00              74250.00      77500.00             NaN   \n",
            "2001     106500.00              97000.00      95107.80             NaN   \n",
            "2002      76000.00              80000.00      87200.00             NaN   \n",
            "2003      55683.00              66666.67      98849.36             NaN   \n",
            "2004      79765.00             112750.00      91819.53             NaN   \n",
            "2005      79471.11              96322.50      79573.69             NaN   \n",
            "2006      95359.96             131848.80      94371.49             NaN   \n",
            "2007      86642.75             121555.56      87837.78             NaN   \n",
            "2008      79704.80              92500.00      86452.80             NaN   \n",
            "2009      97589.32             100000.00      94676.42             NaN   \n",
            "2010      78574.27             113000.00      98071.17             NaN   \n",
            "2011      81739.28             113175.00      96894.24             NaN   \n",
            "2012      82938.14             104333.33      86577.36             NaN   \n",
            "2013      73645.42              85000.00      81519.06             NaN   \n",
            "2014      68922.05             113000.00      85446.54             NaN   \n",
            "2015      61263.24             120000.00      69200.24             NaN   \n",
            "2016      56888.35                   NaN      59843.57             NaN   \n",
            "2017      43108.69              50000.00      42005.85        24585.00   \n",
            "2018      28434.67                   NaN      30289.65        13000.00   \n",
            "2019      19363.53                   NaN      40400.00         7855.33   \n",
            "2020      15084.38               1100.00           NaN          790.33   \n",
            "\n",
            "owner  Third Owner  \n",
            "year                \n",
            "1992           NaN  \n",
            "1995           NaN  \n",
            "1996           NaN  \n",
            "1997     120000.00  \n",
            "1998      65000.00  \n",
            "1999      50000.00  \n",
            "2000      41371.50  \n",
            "2001      64893.17  \n",
            "2002      86000.00  \n",
            "2003     100000.00  \n",
            "2004      95971.38  \n",
            "2005     119250.00  \n",
            "2006     120940.91  \n",
            "2007     101705.88  \n",
            "2008     108434.48  \n",
            "2009      98945.19  \n",
            "2010     114209.68  \n",
            "2011      99437.50  \n",
            "2012      98896.40  \n",
            "2013      82250.00  \n",
            "2014     108166.67  \n",
            "2015      82500.00  \n",
            "2016      71600.00  \n",
            "2017      57000.00  \n",
            "2018      38900.00  \n",
            "2019      15000.00  \n",
            "2020           NaN  \n"
          ]
        }
      ]
    },
    {
      "cell_type": "markdown",
      "source": [
        "**`Сделайте вывод - интерпретацию - что можно увидеть из результата выполнения данного кода?`**"
      ],
      "metadata": {
        "id": "yqJqvk5qniNr"
      }
    },
    {
      "cell_type": "markdown",
      "source": [
        "---\n",
        "\n",
        "**Обратите внимание, что на защите вы должны ориентироваться в синтаксисе. При необходимости нужно быть готовым изменить код по просьбе преподавателя. Например, вместо среднего значения подсчитать медиану и т.д.**\n",
        "\n",
        "\n",
        " ---"
      ],
      "metadata": {
        "id": "tIkuqJKUniNs"
      }
    },
    {
      "cell_type": "markdown",
      "source": [
        "### Вывод"
      ],
      "metadata": {
        "id": "TpnXb6gip3S8"
      }
    },
    {
      "cell_type": "markdown",
      "metadata": {
        "id": "nqLa096jM1Z8"
      },
      "source": [
        "\n",
        "***`Сделать расширенный вывод. `***\n",
        "\n",
        "Вывод должен описывать результаты исследования: какой набор данных вы анализировали (предметная область), какие методы предобработки применили, какие выводы из группировок и сводных таблиц можно сделать (они могут повторять выводы выше) и т.п. Объём вывода, как правило не более 0.5-0.75 страницы А4, всё таки вывод должен быть конкретным (без теории и “воды”).\n"
      ]
    },
    {
      "cell_type": "markdown",
      "source": [
        "### Дополнительное задание"
      ],
      "metadata": {
        "id": "Sn3y7og_vjGG"
      }
    },
    {
      "cell_type": "markdown",
      "source": [
        "**`Подробная формулировка задания`**"
      ],
      "metadata": {
        "id": "rR6WgHXYvlqD"
      }
    },
    {
      "cell_type": "code",
      "source": [
        "# код выполнения задания"
      ],
      "metadata": {
        "id": "wG5TGQpevlBq"
      },
      "execution_count": null,
      "outputs": []
    },
    {
      "cell_type": "markdown",
      "source": [
        "***`Подробный вывод по заданию, описание полученных результатов`***"
      ],
      "metadata": {
        "id": "y-qpTuhTvon3"
      }
    }
  ],
  "metadata": {
    "colab": {
      "provenance": []
    },
    "kernelspec": {
      "display_name": "Python 3",
      "name": "python3"
    },
    "language_info": {
      "name": "python"
    }
  },
  "nbformat": 4,
  "nbformat_minor": 0
}